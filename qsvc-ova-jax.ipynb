{
 "cells": [
  {
   "cell_type": "code",
   "execution_count": 1,
   "id": "2592c1da",
   "metadata": {},
   "outputs": [],
   "source": [
    "from pennylane import numpy as np\n",
    "import matplotlib as mpl\n",
    "\n",
    "import matplotlib.pyplot as plt\n",
    "from sklearn.datasets import load_iris\n",
    "from sklearn.preprocessing import MinMaxScaler\n",
    "from pennylane import numpy as np\n",
    "import pandas as pd\n",
    "from sklearn.model_selection import train_test_split\n",
    "import pennylane as qml\n",
    "import seaborn as sns\n",
    "from sklearn.svm import SVC\n",
    "import matplotlib as mpl\n",
    "import warnings\n",
    "from itertools import product\n",
    "import time\n",
    "from jax_utils import square_kernel_matrix_jax, kernel_matrix_jax, target_alignment_jax\n",
    "from utils import get_scores\n",
    "\n",
    "import os\n",
    "os.environ['CUDA_VISIBLE_DEVICES'] = '1'\n",
    "\n",
    "from jax.config import config\n",
    "config.update(\"jax_enable_x64\", True)\n",
    "\n",
    "import jax\n",
    "import jax.numpy as jnp\n",
    "import optax\n",
    "\n",
    "np.random.seed(1359)"
   ]
  },
  {
   "cell_type": "code",
   "execution_count": 2,
   "id": "46c98a58",
   "metadata": {},
   "outputs": [
    {
     "name": "stderr",
     "output_type": "stream",
     "text": [
      "2023-03-02 16:46:59.339410: E external/org_tensorflow/tensorflow/compiler/xla/stream_executor/cuda/cuda_driver.cc:267] failed call to cuInit: CUDA_ERROR_NO_DEVICE: no CUDA-capable device is detected\n",
      "WARNING:jax._src.lib.xla_bridge:No GPU/TPU found, falling back to CPU. (Set TF_CPP_MIN_LOG_LEVEL=0 and rerun for more info.)\n"
     ]
    },
    {
     "data": {
      "text/plain": [
       "[CpuDevice(id=0)]"
      ]
     },
     "execution_count": 2,
     "metadata": {},
     "output_type": "execute_result"
    }
   ],
   "source": [
    "jax.devices()"
   ]
  },
  {
   "cell_type": "code",
   "execution_count": 20,
   "id": "9073928e",
   "metadata": {},
   "outputs": [
    {
     "data": {
      "text/plain": [
       "((90, 6), (60, 6))"
      ]
     },
     "execution_count": 20,
     "metadata": {},
     "output_type": "execute_result"
    }
   ],
   "source": [
    "iris_data = load_iris()\n",
    "X = iris_data.data\n",
    "Y = iris_data.target\n",
    "classes = [0,1,2]\n",
    "n_classes = len(classes)\n",
    "\n",
    "X = np.pad(X, ((0,0),(0,2)))\n",
    "\n",
    "scaler = MinMaxScaler()\n",
    "X = scaler.fit_transform(X)\n",
    "\n",
    "X_train, X_test, y_train, y_test = train_test_split(X, Y, test_size=0.4, random_state=42, stratify=Y)\n",
    "X_train.shape, X_test.shape"
   ]
  },
  {
   "cell_type": "code",
   "execution_count": 21,
   "id": "c51d7f93",
   "metadata": {},
   "outputs": [],
   "source": [
    "def feature_map(x, params, n_layers, n_wires):\n",
    "    \"\"\"The embedding ansatz\"\"\"\n",
    "    steps = x.shape[0]//3\n",
    "    qubits = list(range(n_wires))\n",
    "    \n",
    "    for q in qubits:\n",
    "        qml.Hadamard(wires=q)\n",
    "    \n",
    "    for l in range(n_layers):\n",
    "        for q in qubits:\n",
    "            for i in range(steps):\n",
    "                z = x[3*i:3*i+3]*params[l,q,0,3*i:3*i+3] + params[l,q,1,3*i:3*i+3]\n",
    "                qml.RZ(z[0], wires=q)\n",
    "                qml.RY(z[1], wires=q)\n",
    "                qml.RZ(z[2], wires=q)\n",
    "                \n",
    "        if (l & 1):\n",
    "            for q0, q1 in zip(qubits[1::2], qubits[2::2] + [qubits[0]]):\n",
    "                qml.CZ((q0,q1))\n",
    "        else:\n",
    "            for q0, q1 in zip(qubits[0::2], qubits[1::2]):\n",
    "                qml.CZ((q0,q1))"
   ]
  },
  {
   "cell_type": "code",
   "execution_count": 22,
   "id": "d957a4a0",
   "metadata": {},
   "outputs": [],
   "source": [
    "n_l = 2\n",
    "n_w = 4\n",
    "in_shape = 6\n",
    "\n",
    "dev = qml.device(\"default.qubit.jax\", wires=n_w)\n",
    "params_shape = (n_l,n_w,2,in_shape)\n",
    "params = np.random.uniform(0, 2 * np.pi, params_shape, requires_grad=True)"
   ]
  },
  {
   "cell_type": "code",
   "execution_count": 23,
   "id": "5e623613",
   "metadata": {},
   "outputs": [],
   "source": [
    "@qml.qnode(dev, interface = 'jax')\n",
    "def kernel_circuit(x1, x2, params):\n",
    "    feature_map(x1, params, n_l, n_w)\n",
    "    qml.adjoint(feature_map)(x2, params, n_l, n_w)\n",
    "    return qml.probs(wires=range(n_w))\n",
    "\n",
    "def kernel(x1, x2, params):\n",
    "    return kernel_circuit(x1, x2, params)[0]"
   ]
  },
  {
   "cell_type": "code",
   "execution_count": 24,
   "id": "3e17d3a6",
   "metadata": {},
   "outputs": [
    {
     "name": "stdout",
     "output_type": "stream",
     "text": [
      "0: ──H──RZ(2.06)──RY(4.70)──RZ(4.64)──RZ(5.86)──RY(2.21)──RZ(6.01)─╭●──RZ(3.24)───RY(6.04)──RZ(2.39)\n",
      "1: ──H──RZ(5.58)──RY(4.68)──RZ(4.19)──RZ(6.33)──RY(4.83)──RZ(3.19)─╰Z──RZ(3.40)───RY(4.67)──RZ(1.22)\n",
      "2: ──H──RZ(6.90)──RY(5.95)──RZ(7.49)──RZ(9.33)──RY(4.23)──RZ(6.12)─╭●──RZ(10.30)──RY(5.92)──RZ(4.74)\n",
      "3: ──H──RZ(4.03)──RY(4.59)──RZ(3.23)──RZ(7.51)──RY(4.27)──RZ(1.38)─╰Z──RZ(1.32)───RY(6.34)──RZ(8.39)\n",
      "\n",
      "───RZ(9.16)──RY(3.90)──RZ(4.90)────╭Z─╭Z†──RZ(4.90)†──RY(3.90)†──RZ(5.40)†──RZ(0.96)†──RY(6.97)†\n",
      "───RZ(1.99)──RY(4.41)──RZ(4.60)─╭●─│──│───╭●──────────RZ(4.60)†──RY(4.41)†──RZ(0.57)†──RZ(0.13)†\n",
      "───RZ(8.85)──RY(2.54)──RZ(1.42)─╰Z─│──│───╰Z†─────────RZ(1.42)†──RY(2.54)†──RZ(5.26)†──RZ(0.99)†\n",
      "───RZ(3.86)──RY(5.66)──RZ(6.23)────╰●─╰●───RZ(6.23)†──RY(5.66)†──RZ(1.18)†──RZ(3.43)†──RY(6.42)†\n",
      "\n",
      "───RZ(2.08)†────────────╭●───RZ(6.01)†──RY(2.21)†──RZ(4.44)†──RZ(2.01)†──RY(5.97)†──RZ(0.59)†──H†─┤\n",
      "───RY(4.96)†──RZ(1.78)†─╰Z†──RZ(3.19)†──RY(4.83)†──RZ(6.14)†──RZ(0.55)†──RY(6.07)†──RZ(3.19)†──H†─┤\n",
      "───RY(5.95)†──RZ(6.50)†─╭●───RZ(6.12)†──RY(4.23)†──RZ(6.40)†──RZ(3.81)†──RY(6.97)†──RZ(3.10)†──H†─┤\n",
      "───RZ(1.29)†────────────╰Z†──RZ(1.38)†──RY(4.27)†──RZ(5.10)†──RZ(1.38)†──RY(4.79)†──RZ(1.65)†──H†─┤\n",
      "\n",
      "  ╭Probs\n",
      "  ├Probs\n",
      "  ├Probs\n",
      "  ╰Probs\n"
     ]
    }
   ],
   "source": [
    "print(qml.draw(kernel_circuit)(X_train[0], X_train[1], params))"
   ]
  },
  {
   "cell_type": "code",
   "execution_count": 25,
   "id": "d81c9b26",
   "metadata": {},
   "outputs": [],
   "source": [
    "jit_kernel = jax.jit(kernel)"
   ]
  },
  {
   "cell_type": "code",
   "execution_count": 26,
   "id": "45c0c973",
   "metadata": {},
   "outputs": [
    {
     "name": "stdout",
     "output_type": "stream",
     "text": [
      "class 0\n",
      "The accuracy of the kernel for class 0 with random parameters is 1.000\n",
      "The accuracy of the kernel for class 0 with random parameters is 1.000\n",
      "class 1\n",
      "The accuracy of the kernel for class 1 with random parameters is 0.978\n",
      "The accuracy of the kernel for class 1 with random parameters is 0.967\n",
      "class 2\n",
      "The accuracy of the kernel for class 2 with random parameters is 0.978\n",
      "The accuracy of the kernel for class 2 with random parameters is 0.933\n",
      "F1 score on train set: 0.978\n",
      "F1 score on test set: 0.950\n",
      "Duration: 4.386536121368408\n"
     ]
    }
   ],
   "source": [
    "start = time.time()\n",
    "\n",
    "svms = []\n",
    "for i in classes:\n",
    "    print(f\"class {i}\")\n",
    "    y_onevsall = np.where(y_train == i, 1, -1)\n",
    "    y_onevsall_test = np.where(y_test == i, 1, -1)\n",
    "    \n",
    "    params = np.random.uniform(0, 2 * np.pi, params_shape, requires_grad=True)\n",
    "    \n",
    "    init_kernel = lambda x1, x2: jit_kernel(x1, x2, params)\n",
    "    kernel_matrix = lambda X1, X2: qml.kernels.kernel_matrix(X1, X2, init_kernel)\n",
    "    svms.append(SVC(probability=True, kernel=kernel_matrix).fit(X_train, y_onevsall))\n",
    "    \n",
    "    accuracy_train = svms[i].score(X_train, y_onevsall)\n",
    "    print(f\"The accuracy of the kernel for class {i} with random parameters is {accuracy_train:.3f}\")\n",
    "\n",
    "    accuracy_test = svms[i].score(X_test, y_onevsall_test)\n",
    "    print(f\"The accuracy of the kernel for class {i} with random parameters is {accuracy_test:.3f}\")\n",
    "\n",
    "train_f1_score, test_f1_score = get_scores(svms, X_train, y_train, X_test, y_test)\n",
    "end = time.time()\n",
    "print(\"Duration:\", end-start)"
   ]
  },
  {
   "cell_type": "code",
   "execution_count": 31,
   "id": "5f8bad3d",
   "metadata": {},
   "outputs": [],
   "source": [
    "def run(features_train, labels_train, features_test, labels_test, params):\n",
    "    \n",
    "    opt = optax.adam(learning_rate=0.1)\n",
    "    opt_state = opt.init(params)\n",
    "\n",
    "    for i in range(500):\n",
    "        # Choose subset of datapoints to compute the KTA on.\n",
    "        subset = np.random.choice(list(range(len(features_train))), 4)\n",
    "        # Define the cost function for optimization\n",
    "        cost = lambda _params: -target_alignment_jax(\n",
    "            features_train[subset],\n",
    "            labels_train[subset],\n",
    "            lambda x1, x2: jit_kernel(x1, x2, _params),\n",
    "            assume_normalized_kernel=True,\n",
    "        )\n",
    "        \n",
    "        # Optimization step\n",
    "        grads = jax.grad(cost)(params)\n",
    "        updates, opt_state = opt.update(grads, opt_state)\n",
    "        params = optax.apply_updates(params, updates)\n",
    "\n",
    "        # Report the alignment on the full dataset every 50 steps.\n",
    "        if (i + 1) % 50 == 0:\n",
    "            current_alignment = target_alignment_jax(\n",
    "                features_train,\n",
    "                labels_train,\n",
    "                lambda x1, x2: jit_kernel(x1, x2, params),\n",
    "                assume_normalized_kernel=True,\n",
    "            )\n",
    "            print(f\"Step {i+1} - Alignment = {current_alignment:.3f}\")\n",
    "            \n",
    "    # First create a kernel with the trained parameter baked into it.\n",
    "    trained_kernel = lambda x1, x2: kernel(x1, x2, params)\n",
    "\n",
    "    # Second create a kernel matrix function using the trained kernel.\n",
    "    trained_kernel_matrix = lambda X1, X2: kernel_matrix_jax(X1, X2, trained_kernel)\n",
    "\n",
    "    # Note that SVC expects the kernel argument to be a kernel matrix function.\n",
    "    svm_trained = SVC(probability=True, kernel=trained_kernel_matrix).fit(features_train, labels_train)\n",
    "    \n",
    "    return svm_trained"
   ]
  },
  {
   "cell_type": "code",
   "execution_count": 32,
   "id": "6871b703",
   "metadata": {
    "scrolled": false
   },
   "outputs": [
    {
     "name": "stdout",
     "output_type": "stream",
     "text": [
      "Step 50 - Alignment = 0.601\n",
      "Step 100 - Alignment = 0.623\n",
      "Step 150 - Alignment = 0.611\n",
      "Step 200 - Alignment = 0.586\n",
      "Step 250 - Alignment = 0.609\n",
      "Step 300 - Alignment = 0.601\n",
      "Step 350 - Alignment = 0.604\n",
      "Step 400 - Alignment = 0.605\n",
      "Step 450 - Alignment = 0.615\n",
      "Step 500 - Alignment = 0.618\n",
      "The accuracy of a kernel with trained parameters is 1.000\n",
      "The accuracy of a kernel with trained parameters is 1.000\n",
      "Step 50 - Alignment = 0.383\n",
      "Step 100 - Alignment = 0.295\n",
      "Step 150 - Alignment = 0.421\n",
      "Step 200 - Alignment = 0.450\n",
      "Step 250 - Alignment = 0.458\n",
      "Step 300 - Alignment = 0.454\n",
      "Step 350 - Alignment = 0.422\n",
      "Step 400 - Alignment = 0.485\n",
      "Step 450 - Alignment = 0.513\n",
      "Step 500 - Alignment = 0.491\n",
      "The accuracy of a kernel with trained parameters is 0.978\n",
      "The accuracy of a kernel with trained parameters is 0.983\n",
      "Step 50 - Alignment = 0.336\n",
      "Step 100 - Alignment = 0.384\n",
      "Step 150 - Alignment = 0.374\n",
      "Step 200 - Alignment = 0.425\n",
      "Step 250 - Alignment = 0.411\n",
      "Step 300 - Alignment = 0.354\n",
      "Step 350 - Alignment = 0.406\n",
      "Step 400 - Alignment = 0.406\n",
      "Step 450 - Alignment = 0.424\n",
      "Step 500 - Alignment = 0.430\n",
      "The accuracy of a kernel with trained parameters is 0.978\n",
      "The accuracy of a kernel with trained parameters is 0.983\n",
      "F1 score on train set: 0.978\n",
      "F1 score on test set: 0.900\n",
      "Duration: 360.26240515708923\n"
     ]
    }
   ],
   "source": [
    "start = time.time()\n",
    "svms_trained = []\n",
    "for i in classes:\n",
    "    y_onevsall = np.where(y_train == i, 1, -1)\n",
    "    y_onevsall_test = np.where(y_test == i, 1, -1)\n",
    "    \n",
    "    params = np.random.uniform(0, 2 * np.pi, params_shape, requires_grad=True)\n",
    "    svms_trained.append(run(X_train, y_onevsall, X_test, y_onevsall_test, params))\n",
    "    \n",
    "    accuracy_trained = svms_trained[i].score(X_train, y_onevsall)\n",
    "    print(f\"The accuracy of a kernel with trained parameters is {accuracy_trained:.3f}\")\n",
    "    \n",
    "    accuracy_trained = svms_trained[i].score(X_test, y_onevsall_test)\n",
    "    print(f\"The accuracy of a kernel with trained parameters is {accuracy_trained:.3f}\")\n",
    "    \n",
    "train_f1_score, test_f1_score = get_scores(svms, X_train, y_train, X_test, y_test)\n",
    "end = time.time()\n",
    "print(\"Duration:\", end-start)"
   ]
  },
  {
   "cell_type": "code",
   "execution_count": 34,
   "id": "307245c5",
   "metadata": {},
   "outputs": [
    {
     "data": {
      "image/png": "[encoded data removed]",
      "text/plain": [
       "<Figure size 640x480 with 1 Axes>"
      ]
     },
     "metadata": {},
     "output_type": "display_data"
    }
   ],
   "source": [
    "X = ['Random', 'Trained']\n",
    "default = [1098.913788, 16692.833640]\n",
    "jax = [4.386536121368408, 360.26240515708923]\n",
    "  \n",
    "X_axis = np.arange(len(X))\n",
    "  \n",
    "plt.bar(X_axis - 0.2, default, 0.4, label = 'default')\n",
    "plt.bar(X_axis + 0.2, jax, 0.4, label = 'jax')\n",
    "  \n",
    "plt.xticks(X_axis, X)\n",
    "plt.xlabel(\"SVC Params\")\n",
    "plt.ylabel(\"Runtime (s)\")\n",
    "plt.title(\"Default vs JAX implementation\")\n",
    "plt.yscale('log')\n",
    "plt.legend()\n",
    "plt.show()"
   ]
  },
  {
   "cell_type": "code",
   "execution_count": null,
   "id": "cff2d16f",
   "metadata": {},
   "outputs": [],
   "source": []
  }
 ],
 "metadata": {
  "kernelspec": {
   "display_name": "Python (qosf)",
   "language": "python",
   "name": "qosf"
  },
  "language_info": {
   "codemirror_mode": {
    "name": "ipython",
    "version": 3
   },
   "file_extension": ".py",
   "mimetype": "text/x-python",
   "name": "python",
   "nbconvert_exporter": "python",
   "pygments_lexer": "ipython3",
   "version": "3.8.1"
  }
 },
 "nbformat": 4,
 "nbformat_minor": 5
}
